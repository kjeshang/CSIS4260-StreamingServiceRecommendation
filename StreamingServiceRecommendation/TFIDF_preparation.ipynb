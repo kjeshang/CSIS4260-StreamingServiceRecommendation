{
 "cells": [
  {
   "cell_type": "markdown",
   "metadata": {},
   "source": [
    "# **Setup**"
   ]
  },
  {
   "cell_type": "code",
   "execution_count": 61,
   "metadata": {},
   "outputs": [],
   "source": [
    "import pandas as pd\n",
    "# import re\n",
    "# pip install nltk\n",
    "# import nltk\n",
    "# nltk.download()\n",
    "from nltk.corpus import stopwords\n",
    "stop_words = set(stopwords.words('english'))\n",
    "from string import punctuation\n",
    "punctuation = list(punctuation)\n",
    "from nltk.tokenize import word_tokenize\n",
    "from nltk.stem import WordNetLemmatizer\n",
    "lemmatizer = WordNetLemmatizer()"
   ]
  },
  {
   "cell_type": "markdown",
   "metadata": {},
   "source": [
    "# **Import and Clean Data**"
   ]
  },
  {
   "cell_type": "markdown",
   "metadata": {},
   "source": [
    "## Netflix, DisneyPlus, and Amazon Prime"
   ]
  },
  {
   "cell_type": "code",
   "execution_count": 62,
   "metadata": {},
   "outputs": [],
   "source": [
    "# Import the Netflix, DisneyPlus, and Amazon Prime datasets.\n",
    "df_netflix = pd.read_csv(\"data/netflix_titles.csv\");\n",
    "df_disneyplus = pd.read_csv(\"data/disney_plus_titles.csv\");\n",
    "df_amazonprime = pd.read_csv(\"data/amazon_prime_titles.csv\");\n",
    "\n",
    "# All of these datasets have identical structure. Thus, it is easy to combine them together with a new column containing what the streaming service the title belongs to.\n",
    "df_netflix[\"Streaming Service\"] = \"Netflix\";\n",
    "df_disneyplus[\"Streaming Service\"] = \"Disney Plus\";\n",
    "df_amazonprime[\"Streaming Service\"] = \"Amazon Prime\";\n",
    "\n",
    "# Combine Netflix, DisneyPlus, and Amazon Prime dataframes together.\n",
    "df_temp = pd.concat([df_netflix, df_disneyplus, df_amazonprime]);\n",
    "df_temp = df_temp.reset_index();\n",
    "\n",
    "# Filter dataframe so that only necessary columns are considered for cleaning.\n",
    "df_temp = df_temp[[\"type\",\"title\",\"release_year\",\"rating\",\"listed_in\",\"description\",\"Streaming Service\"]];"
   ]
  },
  {
   "cell_type": "markdown",
   "metadata": {},
   "source": [
    "Data Cleaning of Netflix, DisneyPlus, and Amazon Prime data"
   ]
  },
  {
   "cell_type": "code",
   "execution_count": 63,
   "metadata": {},
   "outputs": [],
   "source": [
    "# Data cleaning: rating column\n",
    "for i in df_temp.index:\n",
    "    if (df_temp.loc[i, \"rating\"] == '74 min') | (df_temp.loc[i, \"rating\"] == '84 min') | (df_temp.loc[i, \"rating\"] == '66 min'):\n",
    "        df_temp.loc[i, \"rating\"] = 'UNRATED';\n",
    "df_temp[\"rating\"] = df_temp[\"rating\"].fillna(\"UNRATED\");\n",
    "\n",
    "# Data cleaning: genres column\n",
    "df_temp = df_temp.rename(columns={\"listed_in\":\"genres\"});"
   ]
  },
  {
   "cell_type": "code",
   "execution_count": 64,
   "metadata": {},
   "outputs": [
    {
     "data": {
      "text/html": [
       "<div>\n",
       "<style scoped>\n",
       "    .dataframe tbody tr th:only-of-type {\n",
       "        vertical-align: middle;\n",
       "    }\n",
       "\n",
       "    .dataframe tbody tr th {\n",
       "        vertical-align: top;\n",
       "    }\n",
       "\n",
       "    .dataframe thead th {\n",
       "        text-align: right;\n",
       "    }\n",
       "</style>\n",
       "<table border=\"1\" class=\"dataframe\">\n",
       "  <thead>\n",
       "    <tr style=\"text-align: right;\">\n",
       "      <th></th>\n",
       "      <th>type</th>\n",
       "      <th>title</th>\n",
       "      <th>release_year</th>\n",
       "      <th>rating</th>\n",
       "      <th>genres</th>\n",
       "      <th>description</th>\n",
       "      <th>Streaming Service</th>\n",
       "    </tr>\n",
       "  </thead>\n",
       "  <tbody>\n",
       "    <tr>\n",
       "      <th>0</th>\n",
       "      <td>Movie</td>\n",
       "      <td>Dick Johnson Is Dead</td>\n",
       "      <td>2020</td>\n",
       "      <td>PG-13</td>\n",
       "      <td>Documentaries</td>\n",
       "      <td>As her father nears the end of his life, filmm...</td>\n",
       "      <td>Netflix</td>\n",
       "    </tr>\n",
       "  </tbody>\n",
       "</table>\n",
       "</div>"
      ],
      "text/plain": [
       "    type                 title  release_year rating         genres  \\\n",
       "0  Movie  Dick Johnson Is Dead          2020  PG-13  Documentaries   \n",
       "\n",
       "                                         description Streaming Service  \n",
       "0  As her father nears the end of his life, filmm...           Netflix  "
      ]
     },
     "execution_count": 64,
     "metadata": {},
     "output_type": "execute_result"
    }
   ],
   "source": [
    "df_temp[0:1]"
   ]
  },
  {
   "cell_type": "markdown",
   "metadata": {},
   "source": [
    "## Paramount"
   ]
  },
  {
   "cell_type": "code",
   "execution_count": 65,
   "metadata": {},
   "outputs": [],
   "source": [
    "df_paramount = pd.read_csv(\"data/paramount_titles.csv\");\n",
    "df_paramount = df_paramount[[\"type\",\"title\",\"release_year\",\"age_certification\",\"genres\",\"description\"]];\n",
    "df_paramount[\"Streaming Service\"] = \"Paramount\";    "
   ]
  },
  {
   "cell_type": "markdown",
   "metadata": {},
   "source": [
    "Data Cleaning of Paramount data"
   ]
  },
  {
   "cell_type": "code",
   "execution_count": 66,
   "metadata": {},
   "outputs": [],
   "source": [
    "# Data cleaning: type column:\n",
    "df_paramount[\"type\"] = df_paramount[\"type\"].replace(to_replace =\"MOVIE\", value =\"Movie\");\n",
    "df_paramount[\"type\"] = df_paramount[\"type\"].replace(to_replace =\"SHOW\", value =\"TV Show\");\n",
    "\n",
    "# Data cleaning: rating column:\n",
    "df_paramount = df_paramount.rename(columns={\"age_certification\":\"rating\"});\n",
    "df_paramount[\"rating\"] = df_paramount[\"rating\"].fillna(\"UNRATED\");"
   ]
  },
  {
   "cell_type": "code",
   "execution_count": 67,
   "metadata": {},
   "outputs": [
    {
     "data": {
      "text/html": [
       "<div>\n",
       "<style scoped>\n",
       "    .dataframe tbody tr th:only-of-type {\n",
       "        vertical-align: middle;\n",
       "    }\n",
       "\n",
       "    .dataframe tbody tr th {\n",
       "        vertical-align: top;\n",
       "    }\n",
       "\n",
       "    .dataframe thead th {\n",
       "        text-align: right;\n",
       "    }\n",
       "</style>\n",
       "<table border=\"1\" class=\"dataframe\">\n",
       "  <thead>\n",
       "    <tr style=\"text-align: right;\">\n",
       "      <th></th>\n",
       "      <th>type</th>\n",
       "      <th>title</th>\n",
       "      <th>release_year</th>\n",
       "      <th>rating</th>\n",
       "      <th>genres</th>\n",
       "      <th>description</th>\n",
       "      <th>Streaming Service</th>\n",
       "    </tr>\n",
       "  </thead>\n",
       "  <tbody>\n",
       "    <tr>\n",
       "      <th>0</th>\n",
       "      <td>Movie</td>\n",
       "      <td>The General</td>\n",
       "      <td>1926</td>\n",
       "      <td>UNRATED</td>\n",
       "      <td>['action', 'drama', 'war', 'western', 'comedy'...</td>\n",
       "      <td>During America’s Civil War, Union spies steal ...</td>\n",
       "      <td>Paramount</td>\n",
       "    </tr>\n",
       "  </tbody>\n",
       "</table>\n",
       "</div>"
      ],
      "text/plain": [
       "    type        title  release_year   rating  \\\n",
       "0  Movie  The General          1926  UNRATED   \n",
       "\n",
       "                                              genres  \\\n",
       "0  ['action', 'drama', 'war', 'western', 'comedy'...   \n",
       "\n",
       "                                         description Streaming Service  \n",
       "0  During America’s Civil War, Union spies steal ...         Paramount  "
      ]
     },
     "execution_count": 67,
     "metadata": {},
     "output_type": "execute_result"
    }
   ],
   "source": [
    "df_paramount[0:1]"
   ]
  },
  {
   "cell_type": "markdown",
   "metadata": {},
   "source": [
    "## Apple TV+"
   ]
  },
  {
   "cell_type": "code",
   "execution_count": 68,
   "metadata": {},
   "outputs": [],
   "source": [
    "df_appletv = pd.read_csv(\"data/All_Streaming_Shows_apple.csv\");\n",
    "df_appletv = df_appletv[df_appletv[\"Streaming Platform\"] == \"Apple TV+\"];\n",
    "df_appletv = df_appletv[[\"Series Title\",\"Year Released\",\"Content Rating\",\"Genre\",\"Description\",\"Streaming Platform\"]];"
   ]
  },
  {
   "cell_type": "markdown",
   "metadata": {},
   "source": [
    "Data Cleaning of Apple TV data"
   ]
  },
  {
   "cell_type": "code",
   "execution_count": 69,
   "metadata": {},
   "outputs": [],
   "source": [
    "# Data cleaning: type\n",
    "# The No of Seasons column (which is now a dropped column) indicate that all titles in the dataset are shows (i.e., unique values consist of just '1 season' and '1season'), and so the type is \"TV Show\" for all rows\n",
    "df_appletv[\"type\"] = \"TV Show\";\n",
    "\n",
    "# Data cleaning: title\n",
    "df_appletv = df_appletv.rename(columns={\"Series Title\":\"title\"});\n",
    "\n",
    "# Data cleaning: year_released\n",
    "df_appletv = df_appletv.rename(columns={\"Year Released\":\"release_year\"});\n",
    "\n",
    "# Data cleaning: rating\n",
    "df_appletv = df_appletv.rename(columns={\"Content Rating\":\"rating\"});\n",
    "\n",
    "# Data cleaning: genres\n",
    "df_appletv = df_appletv.rename(columns={\"Genre\":\"genres\"});\n",
    "df_appletv[\"genres\"] = df_appletv[\"genres\"].replace(to_replace =\"Comedy,2020\", value =\"Comedy\");\n",
    "df_appletv[\"genres\"] = df_appletv[\"genres\"].replace(to_replace =\"2019,Apple TV+\", value =\"Talk Show\");\n",
    "df_appletv[\"genres\"] = df_appletv[\"genres\"].replace(to_replace =\"Children,2020\", value =\"Children\");\n",
    "df_appletv[\"genres\"] = df_appletv[\"genres\"].replace(to_replace =\"2020,Apple TV+\", value =\"Talk Show\");\n",
    "\n",
    "# Data cleaning: description\n",
    "df_appletv = df_appletv.rename(columns={\"Description\":\"description\"});\n",
    "\n",
    "# Data cleaning: Streaming Service\n",
    "df_appletv = df_appletv.rename(columns={\"Streaming Platform\":\"Streaming Service\"});"
   ]
  },
  {
   "cell_type": "code",
   "execution_count": 70,
   "metadata": {},
   "outputs": [
    {
     "data": {
      "text/html": [
       "<div>\n",
       "<style scoped>\n",
       "    .dataframe tbody tr th:only-of-type {\n",
       "        vertical-align: middle;\n",
       "    }\n",
       "\n",
       "    .dataframe tbody tr th {\n",
       "        vertical-align: top;\n",
       "    }\n",
       "\n",
       "    .dataframe thead th {\n",
       "        text-align: right;\n",
       "    }\n",
       "</style>\n",
       "<table border=\"1\" class=\"dataframe\">\n",
       "  <thead>\n",
       "    <tr style=\"text-align: right;\">\n",
       "      <th></th>\n",
       "      <th>type</th>\n",
       "      <th>title</th>\n",
       "      <th>release_year</th>\n",
       "      <th>rating</th>\n",
       "      <th>genres</th>\n",
       "      <th>description</th>\n",
       "      <th>Streaming Service</th>\n",
       "    </tr>\n",
       "  </thead>\n",
       "  <tbody>\n",
       "    <tr>\n",
       "      <th>130</th>\n",
       "      <td>TV Show</td>\n",
       "      <td>Ted Lasso</td>\n",
       "      <td>2020</td>\n",
       "      <td>18+</td>\n",
       "      <td>Comedy,Drama</td>\n",
       "      <td>Ted Lasso, an American football coach, moves t...</td>\n",
       "      <td>Apple TV+</td>\n",
       "    </tr>\n",
       "  </tbody>\n",
       "</table>\n",
       "</div>"
      ],
      "text/plain": [
       "        type      title  release_year rating        genres  \\\n",
       "130  TV Show  Ted Lasso          2020    18+  Comedy,Drama   \n",
       "\n",
       "                                           description Streaming Service  \n",
       "130  Ted Lasso, an American football coach, moves t...         Apple TV+  "
      ]
     },
     "execution_count": 70,
     "metadata": {},
     "output_type": "execute_result"
    }
   ],
   "source": [
    "df_appletv = df_appletv[[\"type\",\"title\",\"release_year\",\"rating\",\"genres\",\"description\",\"Streaming Service\"]];\n",
    "df_appletv[0:1]"
   ]
  },
  {
   "cell_type": "markdown",
   "metadata": {},
   "source": [
    "# **Data Transformation**"
   ]
  },
  {
   "cell_type": "markdown",
   "metadata": {},
   "source": [
    "## Combine all cleaned datasets together"
   ]
  },
  {
   "cell_type": "code",
   "execution_count": 71,
   "metadata": {},
   "outputs": [
    {
     "data": {
      "text/html": [
       "<div>\n",
       "<style scoped>\n",
       "    .dataframe tbody tr th:only-of-type {\n",
       "        vertical-align: middle;\n",
       "    }\n",
       "\n",
       "    .dataframe tbody tr th {\n",
       "        vertical-align: top;\n",
       "    }\n",
       "\n",
       "    .dataframe thead th {\n",
       "        text-align: right;\n",
       "    }\n",
       "</style>\n",
       "<table border=\"1\" class=\"dataframe\">\n",
       "  <thead>\n",
       "    <tr style=\"text-align: right;\">\n",
       "      <th></th>\n",
       "      <th>type</th>\n",
       "      <th>title</th>\n",
       "      <th>release_year</th>\n",
       "      <th>rating</th>\n",
       "      <th>genres</th>\n",
       "      <th>description</th>\n",
       "      <th>Streaming Service</th>\n",
       "    </tr>\n",
       "  </thead>\n",
       "  <tbody>\n",
       "    <tr>\n",
       "      <th>0</th>\n",
       "      <td>Movie</td>\n",
       "      <td>Dick Johnson Is Dead</td>\n",
       "      <td>2020</td>\n",
       "      <td>PG-13</td>\n",
       "      <td>Documentaries</td>\n",
       "      <td>As her father nears the end of his life, filmm...</td>\n",
       "      <td>Netflix</td>\n",
       "    </tr>\n",
       "    <tr>\n",
       "      <th>1</th>\n",
       "      <td>TV Show</td>\n",
       "      <td>Blood &amp; Water</td>\n",
       "      <td>2021</td>\n",
       "      <td>TV-MA</td>\n",
       "      <td>International TV Shows, TV Dramas, TV Mysteries</td>\n",
       "      <td>After crossing paths at a party, a Cape Town t...</td>\n",
       "      <td>Netflix</td>\n",
       "    </tr>\n",
       "    <tr>\n",
       "      <th>2</th>\n",
       "      <td>TV Show</td>\n",
       "      <td>Ganglands</td>\n",
       "      <td>2021</td>\n",
       "      <td>TV-MA</td>\n",
       "      <td>Crime TV Shows, International TV Shows, TV Act...</td>\n",
       "      <td>To protect his family from a powerful drug lor...</td>\n",
       "      <td>Netflix</td>\n",
       "    </tr>\n",
       "    <tr>\n",
       "      <th>3</th>\n",
       "      <td>TV Show</td>\n",
       "      <td>Jailbirds New Orleans</td>\n",
       "      <td>2021</td>\n",
       "      <td>TV-MA</td>\n",
       "      <td>Docuseries, Reality TV</td>\n",
       "      <td>Feuds, flirtations and toilet talk go down amo...</td>\n",
       "      <td>Netflix</td>\n",
       "    </tr>\n",
       "    <tr>\n",
       "      <th>4</th>\n",
       "      <td>TV Show</td>\n",
       "      <td>Kota Factory</td>\n",
       "      <td>2021</td>\n",
       "      <td>TV-MA</td>\n",
       "      <td>International TV Shows, Romantic TV Shows, TV ...</td>\n",
       "      <td>In a city of coaching centers known to train I...</td>\n",
       "      <td>Netflix</td>\n",
       "    </tr>\n",
       "    <tr>\n",
       "      <th>...</th>\n",
       "      <td>...</td>\n",
       "      <td>...</td>\n",
       "      <td>...</td>\n",
       "      <td>...</td>\n",
       "      <td>...</td>\n",
       "      <td>...</td>\n",
       "      <td>...</td>\n",
       "    </tr>\n",
       "    <tr>\n",
       "      <th>22771</th>\n",
       "      <td>TV Show</td>\n",
       "      <td>Dear…</td>\n",
       "      <td>2020</td>\n",
       "      <td>18+</td>\n",
       "      <td>Documentary,Biography</td>\n",
       "      <td>An inventive and cinematic approach to biograp...</td>\n",
       "      <td>Apple TV+</td>\n",
       "    </tr>\n",
       "    <tr>\n",
       "      <th>22772</th>\n",
       "      <td>TV Show</td>\n",
       "      <td>Fraggle Rock: Rock On!</td>\n",
       "      <td>2020</td>\n",
       "      <td>all</td>\n",
       "      <td>Family,Children</td>\n",
       "      <td>The Fraggles might be apart in separate caves,...</td>\n",
       "      <td>Apple TV+</td>\n",
       "    </tr>\n",
       "    <tr>\n",
       "      <th>22773</th>\n",
       "      <td>TV Show</td>\n",
       "      <td>Oprah's Book Club</td>\n",
       "      <td>2019</td>\n",
       "      <td>7+</td>\n",
       "      <td>Talk Show</td>\n",
       "      <td>Get a front row seat to unguarded conversation...</td>\n",
       "      <td>Apple TV+</td>\n",
       "    </tr>\n",
       "    <tr>\n",
       "      <th>22774</th>\n",
       "      <td>TV Show</td>\n",
       "      <td>Helpsters Help You</td>\n",
       "      <td>2020</td>\n",
       "      <td>all</td>\n",
       "      <td>Children</td>\n",
       "      <td>Cody is a helpful monster who knows that every...</td>\n",
       "      <td>Apple TV+</td>\n",
       "    </tr>\n",
       "    <tr>\n",
       "      <th>22775</th>\n",
       "      <td>TV Show</td>\n",
       "      <td>Oprah Talks COVID-19</td>\n",
       "      <td>2020</td>\n",
       "      <td>7+</td>\n",
       "      <td>Talk Show</td>\n",
       "      <td>How can we mindfully move through a crisis whi...</td>\n",
       "      <td>Apple TV+</td>\n",
       "    </tr>\n",
       "  </tbody>\n",
       "</table>\n",
       "<p>22776 rows × 7 columns</p>\n",
       "</div>"
      ],
      "text/plain": [
       "          type                   title  release_year rating  \\\n",
       "0        Movie    Dick Johnson Is Dead          2020  PG-13   \n",
       "1      TV Show           Blood & Water          2021  TV-MA   \n",
       "2      TV Show               Ganglands          2021  TV-MA   \n",
       "3      TV Show   Jailbirds New Orleans          2021  TV-MA   \n",
       "4      TV Show            Kota Factory          2021  TV-MA   \n",
       "...        ...                     ...           ...    ...   \n",
       "22771  TV Show                   Dear…          2020    18+   \n",
       "22772  TV Show  Fraggle Rock: Rock On!          2020    all   \n",
       "22773  TV Show       Oprah's Book Club          2019     7+   \n",
       "22774  TV Show      Helpsters Help You          2020    all   \n",
       "22775  TV Show    Oprah Talks COVID-19          2020     7+   \n",
       "\n",
       "                                                  genres  \\\n",
       "0                                          Documentaries   \n",
       "1        International TV Shows, TV Dramas, TV Mysteries   \n",
       "2      Crime TV Shows, International TV Shows, TV Act...   \n",
       "3                                 Docuseries, Reality TV   \n",
       "4      International TV Shows, Romantic TV Shows, TV ...   \n",
       "...                                                  ...   \n",
       "22771                              Documentary,Biography   \n",
       "22772                                    Family,Children   \n",
       "22773                                          Talk Show   \n",
       "22774                                           Children   \n",
       "22775                                          Talk Show   \n",
       "\n",
       "                                             description Streaming Service  \n",
       "0      As her father nears the end of his life, filmm...           Netflix  \n",
       "1      After crossing paths at a party, a Cape Town t...           Netflix  \n",
       "2      To protect his family from a powerful drug lor...           Netflix  \n",
       "3      Feuds, flirtations and toilet talk go down amo...           Netflix  \n",
       "4      In a city of coaching centers known to train I...           Netflix  \n",
       "...                                                  ...               ...  \n",
       "22771  An inventive and cinematic approach to biograp...         Apple TV+  \n",
       "22772  The Fraggles might be apart in separate caves,...         Apple TV+  \n",
       "22773  Get a front row seat to unguarded conversation...         Apple TV+  \n",
       "22774  Cody is a helpful monster who knows that every...         Apple TV+  \n",
       "22775  How can we mindfully move through a crisis whi...         Apple TV+  \n",
       "\n",
       "[22776 rows x 7 columns]"
      ]
     },
     "execution_count": 71,
     "metadata": {},
     "output_type": "execute_result"
    }
   ],
   "source": [
    "df_combined = pd.concat([df_temp, df_paramount, df_appletv]);\n",
    "df_combined = df_combined.reset_index();\n",
    "df_combined = df_combined[df_combined.columns.tolist()[1:]];\n",
    "df_combined"
   ]
  },
  {
   "cell_type": "markdown",
   "metadata": {},
   "source": [
    "# ***NLP Preparation***"
   ]
  },
  {
   "cell_type": "code",
   "execution_count": 72,
   "metadata": {},
   "outputs": [],
   "source": [
    "df_prep = df_combined.copy();\n",
    "\n",
    "# Tokenization: Splits text into pieces (tokens), remove punctuation\n",
    "# Stopword Removal: Removes commonly used words (such as 'the') which are not relevant to analysis\n",
    "# Stemming and Lemmatization: Reduces words to base form to be analyzed as a single item\n",
    "# P.O.S Tagging: Tags words to be part of speech (such as verb, noun) based on definition and context\n",
    "# Information Retrieval: Extracts relevant information from source"
   ]
  },
  {
   "cell_type": "code",
   "execution_count": 73,
   "metadata": {},
   "outputs": [],
   "source": [
    "df_prep[\"Textual Info\"] = \"\";\n",
    "for i in df_prep.index:\n",
    "    textualInfo = (str(df_prep.loc[i, \"rating\"]) + \" \" + str(df_prep.loc[i, \"genres\"]) + \" \" + str(df_prep.loc[i, \"description\"])).lower();\n",
    "    textualInfo_tokens = word_tokenize(textualInfo);\n",
    "    textualInfo_cleanedTokens = [];\n",
    "    for token in textualInfo_tokens:\n",
    "        token = lemmatizer.lemmatize(token, pos=\"a\");\n",
    "        # if (token not in stop_words) and (token not in punctuation):\n",
    "        if (token not in stop_words) and (token not in punctuation) and (token not in textualInfo_cleanedTokens):\n",
    "            textualInfo_cleanedTokens.append(token);\n",
    "    textualInfo_final = \"\";\n",
    "    for token in textualInfo_cleanedTokens:\n",
    "        textualInfo_final += token + \" \";\n",
    "    textualInfo_final = textualInfo_final[:-1];\n",
    "    df_prep.loc[i, \"Textual Info\"] = textualInfo_final;\n",
    "\n",
    "df_prep = df_prep.sort_values(by=[\"title\",\"release_year\",\"rating\",\"genres\",\"Streaming Service\"], ascending=True);\n",
    "df_prep = df_prep.reset_index();\n",
    "df_prep = df_prep[df_prep.columns.tolist()[1:]];"
   ]
  },
  {
   "cell_type": "code",
   "execution_count": 74,
   "metadata": {},
   "outputs": [
    {
     "data": {
      "text/html": [
       "<div>\n",
       "<style scoped>\n",
       "    .dataframe tbody tr th:only-of-type {\n",
       "        vertical-align: middle;\n",
       "    }\n",
       "\n",
       "    .dataframe tbody tr th {\n",
       "        vertical-align: top;\n",
       "    }\n",
       "\n",
       "    .dataframe thead th {\n",
       "        text-align: right;\n",
       "    }\n",
       "</style>\n",
       "<table border=\"1\" class=\"dataframe\">\n",
       "  <thead>\n",
       "    <tr style=\"text-align: right;\">\n",
       "      <th></th>\n",
       "      <th>type</th>\n",
       "      <th>title</th>\n",
       "      <th>release_year</th>\n",
       "      <th>rating</th>\n",
       "      <th>genres</th>\n",
       "      <th>description</th>\n",
       "      <th>Streaming Service</th>\n",
       "      <th>Textual Info</th>\n",
       "    </tr>\n",
       "  </thead>\n",
       "  <tbody>\n",
       "    <tr>\n",
       "      <th>0</th>\n",
       "      <td>Movie</td>\n",
       "      <td>\"Mixed Up\"</td>\n",
       "      <td>2020</td>\n",
       "      <td>16+</td>\n",
       "      <td>Drama, Romance</td>\n",
       "      <td>\"Mixed Up\" examines casual factors that make u...</td>\n",
       "      <td>Amazon Prime</td>\n",
       "      <td>16+ drama romance `` mixed '' examines casual ...</td>\n",
       "    </tr>\n",
       "    <tr>\n",
       "      <th>1</th>\n",
       "      <td>TV Show</td>\n",
       "      <td>\"The Paramedic Angel\"</td>\n",
       "      <td>2021</td>\n",
       "      <td>ALL</td>\n",
       "      <td>Drama</td>\n",
       "      <td>The tragedy of a loving family man and paramed...</td>\n",
       "      <td>Amazon Prime</td>\n",
       "      <td>drama tragedy loving family man paramedic hero...</td>\n",
       "    </tr>\n",
       "    <tr>\n",
       "      <th>2</th>\n",
       "      <td>Movie</td>\n",
       "      <td>#Alive</td>\n",
       "      <td>2020</td>\n",
       "      <td>TV-MA</td>\n",
       "      <td>Horror Movies, International Movies, Thrillers</td>\n",
       "      <td>As a grisly virus rampages a city, a lone man ...</td>\n",
       "      <td>Netflix</td>\n",
       "      <td>tv-ma horror movies international thrillers gr...</td>\n",
       "    </tr>\n",
       "    <tr>\n",
       "      <th>3</th>\n",
       "      <td>Movie</td>\n",
       "      <td>#AnneFrank - Parallel Stories</td>\n",
       "      <td>2019</td>\n",
       "      <td>TV-14</td>\n",
       "      <td>Documentaries, International Movies</td>\n",
       "      <td>Through her diary, Anne Frank's story is retol...</td>\n",
       "      <td>Netflix</td>\n",
       "      <td>tv-14 documentaries international movies diary...</td>\n",
       "    </tr>\n",
       "    <tr>\n",
       "      <th>4</th>\n",
       "      <td>Movie</td>\n",
       "      <td>#FriendButMarried</td>\n",
       "      <td>2018</td>\n",
       "      <td>TV-G</td>\n",
       "      <td>Dramas, International Movies, Romantic Movies</td>\n",
       "      <td>Pining for his high school crush for years, a ...</td>\n",
       "      <td>Netflix</td>\n",
       "      <td>tv-g dramas international movies romantic pini...</td>\n",
       "    </tr>\n",
       "  </tbody>\n",
       "</table>\n",
       "</div>"
      ],
      "text/plain": [
       "      type                          title  release_year rating  \\\n",
       "0    Movie                     \"Mixed Up\"          2020    16+   \n",
       "1  TV Show          \"The Paramedic Angel\"          2021    ALL   \n",
       "2    Movie                         #Alive          2020  TV-MA   \n",
       "3    Movie  #AnneFrank - Parallel Stories          2019  TV-14   \n",
       "4    Movie              #FriendButMarried          2018   TV-G   \n",
       "\n",
       "                                           genres  \\\n",
       "0                                  Drama, Romance   \n",
       "1                                           Drama   \n",
       "2  Horror Movies, International Movies, Thrillers   \n",
       "3             Documentaries, International Movies   \n",
       "4   Dramas, International Movies, Romantic Movies   \n",
       "\n",
       "                                         description Streaming Service  \\\n",
       "0  \"Mixed Up\" examines casual factors that make u...      Amazon Prime   \n",
       "1  The tragedy of a loving family man and paramed...      Amazon Prime   \n",
       "2  As a grisly virus rampages a city, a lone man ...           Netflix   \n",
       "3  Through her diary, Anne Frank's story is retol...           Netflix   \n",
       "4  Pining for his high school crush for years, a ...           Netflix   \n",
       "\n",
       "                                        Textual Info  \n",
       "0  16+ drama romance `` mixed '' examines casual ...  \n",
       "1  drama tragedy loving family man paramedic hero...  \n",
       "2  tv-ma horror movies international thrillers gr...  \n",
       "3  tv-14 documentaries international movies diary...  \n",
       "4  tv-g dramas international movies romantic pini...  "
      ]
     },
     "execution_count": 74,
     "metadata": {},
     "output_type": "execute_result"
    }
   ],
   "source": [
    "df_prep.head()"
   ]
  },
  {
   "cell_type": "markdown",
   "metadata": {},
   "source": [
    "# **Data Loading**"
   ]
  },
  {
   "cell_type": "code",
   "execution_count": 75,
   "metadata": {},
   "outputs": [],
   "source": [
    "df_prep.to_excel(\"streaming_service_titles_TFIDF.xlsx\", index=False);"
   ]
  }
 ],
 "metadata": {
  "kernelspec": {
   "display_name": "Python 3.10.1 64-bit",
   "language": "python",
   "name": "python3"
  },
  "language_info": {
   "codemirror_mode": {
    "name": "ipython",
    "version": 3
   },
   "file_extension": ".py",
   "mimetype": "text/x-python",
   "name": "python",
   "nbconvert_exporter": "python",
   "pygments_lexer": "ipython3",
   "version": "3.10.1"
  },
  "orig_nbformat": 4,
  "vscode": {
   "interpreter": {
    "hash": "07fcc30a38d1ecd00416a20ffc3bb9ba1ff350e42774c526eac392e139b99617"
   }
  }
 },
 "nbformat": 4,
 "nbformat_minor": 2
}
