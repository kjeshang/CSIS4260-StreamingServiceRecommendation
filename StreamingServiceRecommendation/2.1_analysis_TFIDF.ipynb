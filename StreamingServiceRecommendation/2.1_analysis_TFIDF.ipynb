{
 "cells": [
  {
   "cell_type": "markdown",
   "metadata": {},
   "source": [
    "# **Setup**"
   ]
  },
  {
   "cell_type": "code",
   "execution_count": 1,
   "metadata": {},
   "outputs": [],
   "source": [
    "import pandas as pd\n",
    "# import re\n",
    "# pip install nltk\n",
    "# import nltk\n",
    "# nltk.download()\n",
    "from nltk.corpus import stopwords\n",
    "stop_words = set(stopwords.words('english'))\n",
    "from string import punctuation\n",
    "punctuation = list(punctuation)\n",
    "from nltk.tokenize import word_tokenize\n",
    "from nltk.stem import WordNetLemmatizer\n",
    "lemmatizer = WordNetLemmatizer()\n",
    "from sklearn.feature_extraction.text import TfidfVectorizer\n",
    "from sklearn.metrics.pairwise import linear_kernel"
   ]
  },
  {
   "cell_type": "markdown",
   "metadata": {},
   "source": [
    "Import data"
   ]
  },
  {
   "cell_type": "code",
   "execution_count": 2,
   "metadata": {},
   "outputs": [],
   "source": [
    "df_combined = pd.read_excel(\"streaming_service_titles.xlsx\", index_col=False);\n",
    "df_prep = df_combined.copy();"
   ]
  },
  {
   "cell_type": "code",
   "execution_count": 3,
   "metadata": {},
   "outputs": [
    {
     "data": {
      "text/html": [
       "<div>\n",
       "<style scoped>\n",
       "    .dataframe tbody tr th:only-of-type {\n",
       "        vertical-align: middle;\n",
       "    }\n",
       "\n",
       "    .dataframe tbody tr th {\n",
       "        vertical-align: top;\n",
       "    }\n",
       "\n",
       "    .dataframe thead th {\n",
       "        text-align: right;\n",
       "    }\n",
       "</style>\n",
       "<table border=\"1\" class=\"dataframe\">\n",
       "  <thead>\n",
       "    <tr style=\"text-align: right;\">\n",
       "      <th></th>\n",
       "      <th>type</th>\n",
       "      <th>title</th>\n",
       "      <th>release_year</th>\n",
       "      <th>rating</th>\n",
       "      <th>genres</th>\n",
       "      <th>description</th>\n",
       "      <th>Streaming Service</th>\n",
       "    </tr>\n",
       "  </thead>\n",
       "  <tbody>\n",
       "    <tr>\n",
       "      <th>1</th>\n",
       "      <td>TV Show</td>\n",
       "      <td>Blood &amp; Water</td>\n",
       "      <td>2021</td>\n",
       "      <td>TV-MA</td>\n",
       "      <td>International TV Shows, TV Dramas, TV Mysteries</td>\n",
       "      <td>After crossing paths at a party, a Cape Town t...</td>\n",
       "      <td>Netflix</td>\n",
       "    </tr>\n",
       "  </tbody>\n",
       "</table>\n",
       "</div>"
      ],
      "text/plain": [
       "      type          title  release_year rating  \\\n",
       "1  TV Show  Blood & Water          2021  TV-MA   \n",
       "\n",
       "                                            genres  \\\n",
       "1  International TV Shows, TV Dramas, TV Mysteries   \n",
       "\n",
       "                                         description Streaming Service  \n",
       "1  After crossing paths at a party, a Cape Town t...           Netflix  "
      ]
     },
     "execution_count": 3,
     "metadata": {},
     "output_type": "execute_result"
    }
   ],
   "source": [
    "df_prep[1:2]"
   ]
  },
  {
   "cell_type": "markdown",
   "metadata": {},
   "source": [
    "# **NLP Process Workflow**"
   ]
  },
  {
   "cell_type": "code",
   "execution_count": null,
   "metadata": {},
   "outputs": [],
   "source": [
    "# Tokenization: Splits text into pieces (tokens), remove punctuation\n",
    "# Stopword Removal: Removes commonly used words (such as 'the') which are not relevant to analysis\n",
    "# Stemming and Lemmatization: Reduces words to base form to be analyzed as a single item\n",
    "# P.O.S Tagging: Tags words to be part of speech (such as verb, noun) based on definition and context\n",
    "# Information Retrieval: Extracts relevant information from source"
   ]
  },
  {
   "cell_type": "code",
   "execution_count": 4,
   "metadata": {},
   "outputs": [],
   "source": [
    "df_prep[\"Textual Info\"] = \"\";\n",
    "for i in df_prep.index:\n",
    "    textualInfo = (str(df_prep.loc[i, \"rating\"]) + \" \" + str(df_prep.loc[i, \"genres\"]) + \" \" + str(df_prep.loc[i, \"description\"])).lower();\n",
    "    textualInfo_tokens = word_tokenize(textualInfo);\n",
    "    textualInfo_cleanedTokens = [];\n",
    "    for token in textualInfo_tokens:\n",
    "        token = lemmatizer.lemmatize(token, pos=\"a\");\n",
    "        # if (token not in stop_words) and (token not in punctuation):\n",
    "        if (token not in stop_words) and (token not in punctuation) and (token not in textualInfo_cleanedTokens):\n",
    "            textualInfo_cleanedTokens.append(token);\n",
    "    textualInfo_final = \"\";\n",
    "    for token in textualInfo_cleanedTokens:\n",
    "        textualInfo_final += token + \" \";\n",
    "    textualInfo_final = textualInfo_final[:-1];\n",
    "    df_prep.loc[i, \"Textual Info\"] = textualInfo_final;"
   ]
  },
  {
   "cell_type": "code",
   "execution_count": 5,
   "metadata": {},
   "outputs": [
    {
     "data": {
      "text/html": [
       "<div>\n",
       "<style scoped>\n",
       "    .dataframe tbody tr th:only-of-type {\n",
       "        vertical-align: middle;\n",
       "    }\n",
       "\n",
       "    .dataframe tbody tr th {\n",
       "        vertical-align: top;\n",
       "    }\n",
       "\n",
       "    .dataframe thead th {\n",
       "        text-align: right;\n",
       "    }\n",
       "</style>\n",
       "<table border=\"1\" class=\"dataframe\">\n",
       "  <thead>\n",
       "    <tr style=\"text-align: right;\">\n",
       "      <th></th>\n",
       "      <th>type</th>\n",
       "      <th>title</th>\n",
       "      <th>release_year</th>\n",
       "      <th>rating</th>\n",
       "      <th>genres</th>\n",
       "      <th>description</th>\n",
       "      <th>Streaming Service</th>\n",
       "      <th>Textual Info</th>\n",
       "    </tr>\n",
       "  </thead>\n",
       "  <tbody>\n",
       "    <tr>\n",
       "      <th>0</th>\n",
       "      <td>Movie</td>\n",
       "      <td>Dick Johnson Is Dead</td>\n",
       "      <td>2020</td>\n",
       "      <td>PG-13</td>\n",
       "      <td>Documentaries</td>\n",
       "      <td>As her father nears the end of his life, filmm...</td>\n",
       "      <td>Netflix</td>\n",
       "      <td>pg-13 documentaries father nears end life film...</td>\n",
       "    </tr>\n",
       "    <tr>\n",
       "      <th>1</th>\n",
       "      <td>TV Show</td>\n",
       "      <td>Blood &amp; Water</td>\n",
       "      <td>2021</td>\n",
       "      <td>TV-MA</td>\n",
       "      <td>International TV Shows, TV Dramas, TV Mysteries</td>\n",
       "      <td>After crossing paths at a party, a Cape Town t...</td>\n",
       "      <td>Netflix</td>\n",
       "      <td>tv-ma international tv shows dramas mysteries ...</td>\n",
       "    </tr>\n",
       "    <tr>\n",
       "      <th>2</th>\n",
       "      <td>TV Show</td>\n",
       "      <td>Ganglands</td>\n",
       "      <td>2021</td>\n",
       "      <td>TV-MA</td>\n",
       "      <td>Crime TV Shows, International TV Shows, TV Act...</td>\n",
       "      <td>To protect his family from a powerful drug lor...</td>\n",
       "      <td>Netflix</td>\n",
       "      <td>tv-ma crime tv shows international action adve...</td>\n",
       "    </tr>\n",
       "    <tr>\n",
       "      <th>3</th>\n",
       "      <td>TV Show</td>\n",
       "      <td>Jailbirds New Orleans</td>\n",
       "      <td>2021</td>\n",
       "      <td>TV-MA</td>\n",
       "      <td>Docuseries, Reality TV</td>\n",
       "      <td>Feuds, flirtations and toilet talk go down amo...</td>\n",
       "      <td>Netflix</td>\n",
       "      <td>tv-ma docuseries reality tv feuds flirtations ...</td>\n",
       "    </tr>\n",
       "    <tr>\n",
       "      <th>4</th>\n",
       "      <td>TV Show</td>\n",
       "      <td>Kota Factory</td>\n",
       "      <td>2021</td>\n",
       "      <td>TV-MA</td>\n",
       "      <td>International TV Shows, Romantic TV Shows, TV ...</td>\n",
       "      <td>In a city of coaching centers known to train I...</td>\n",
       "      <td>Netflix</td>\n",
       "      <td>tv-ma international tv shows romantic comedies...</td>\n",
       "    </tr>\n",
       "  </tbody>\n",
       "</table>\n",
       "</div>"
      ],
      "text/plain": [
       "      type                  title  release_year rating  \\\n",
       "0    Movie   Dick Johnson Is Dead          2020  PG-13   \n",
       "1  TV Show          Blood & Water          2021  TV-MA   \n",
       "2  TV Show              Ganglands          2021  TV-MA   \n",
       "3  TV Show  Jailbirds New Orleans          2021  TV-MA   \n",
       "4  TV Show           Kota Factory          2021  TV-MA   \n",
       "\n",
       "                                              genres  \\\n",
       "0                                      Documentaries   \n",
       "1    International TV Shows, TV Dramas, TV Mysteries   \n",
       "2  Crime TV Shows, International TV Shows, TV Act...   \n",
       "3                             Docuseries, Reality TV   \n",
       "4  International TV Shows, Romantic TV Shows, TV ...   \n",
       "\n",
       "                                         description Streaming Service  \\\n",
       "0  As her father nears the end of his life, filmm...           Netflix   \n",
       "1  After crossing paths at a party, a Cape Town t...           Netflix   \n",
       "2  To protect his family from a powerful drug lor...           Netflix   \n",
       "3  Feuds, flirtations and toilet talk go down amo...           Netflix   \n",
       "4  In a city of coaching centers known to train I...           Netflix   \n",
       "\n",
       "                                        Textual Info  \n",
       "0  pg-13 documentaries father nears end life film...  \n",
       "1  tv-ma international tv shows dramas mysteries ...  \n",
       "2  tv-ma crime tv shows international action adve...  \n",
       "3  tv-ma docuseries reality tv feuds flirtations ...  \n",
       "4  tv-ma international tv shows romantic comedies...  "
      ]
     },
     "execution_count": 5,
     "metadata": {},
     "output_type": "execute_result"
    }
   ],
   "source": [
    "df_prep.head()"
   ]
  },
  {
   "cell_type": "markdown",
   "metadata": {},
   "source": [
    "# **Analysis**"
   ]
  },
  {
   "cell_type": "code",
   "execution_count": 10,
   "metadata": {},
   "outputs": [],
   "source": [
    "# tfidf = TfidfVectorizer(strip_accents=\"ascii\", stop_words=\"english\", min_df=0.0005, sublinear_tf=True);\n",
    "# tfidf = TfidfVectorizer(max_df=.65, min_df=1, stop_words=\"english\", use_idf=True, norm=None);\n",
    "tfidf = TfidfVectorizer(stop_words=\"english\", min_df=0.005, sublinear_tf=True);\n",
    "tfidf_matrix = tfidf.fit_transform(df_prep[\"Textual Info\"]);"
   ]
  },
  {
   "cell_type": "code",
   "execution_count": 11,
   "metadata": {},
   "outputs": [],
   "source": [
    "cosine_sim = linear_kernel(tfidf_matrix, tfidf_matrix);\n",
    "indices = pd.Series(df_prep.index, index=df_prep[\"title\"]).drop_duplicates();"
   ]
  },
  {
   "cell_type": "code",
   "execution_count": 58,
   "metadata": {},
   "outputs": [],
   "source": [
    "def get_recommendations(title, cosine_sim=cosine_sim):\n",
    "    idx = indices[title];\n",
    "    sim_scores = list(enumerate(cosine_sim[idx]));\n",
    "    sim_scores = sorted(sim_scores, key=lambda x: x[1], reverse=True);\n",
    "    sim_scores = sim_scores[1:11];\n",
    "    movie_indices = [i[0] for i in sim_scores];\n",
    "    return df_prep[[\"title\",\"description\",\"Streaming Service\"]].iloc[movie_indices];"
   ]
  },
  {
   "cell_type": "code",
   "execution_count": 59,
   "metadata": {},
   "outputs": [
    {
     "data": {
      "text/html": [
       "<div>\n",
       "<style scoped>\n",
       "    .dataframe tbody tr th:only-of-type {\n",
       "        vertical-align: middle;\n",
       "    }\n",
       "\n",
       "    .dataframe tbody tr th {\n",
       "        vertical-align: top;\n",
       "    }\n",
       "\n",
       "    .dataframe thead th {\n",
       "        text-align: right;\n",
       "    }\n",
       "</style>\n",
       "<table border=\"1\" class=\"dataframe\">\n",
       "  <thead>\n",
       "    <tr style=\"text-align: right;\">\n",
       "      <th></th>\n",
       "      <th>title</th>\n",
       "      <th>description</th>\n",
       "      <th>Streaming Service</th>\n",
       "    </tr>\n",
       "  </thead>\n",
       "  <tbody>\n",
       "    <tr>\n",
       "      <th>5305</th>\n",
       "      <td>Narcos</td>\n",
       "      <td>The true story of Colombia's infamously violen...</td>\n",
       "      <td>Netflix</td>\n",
       "    </tr>\n",
       "    <tr>\n",
       "      <th>2921</th>\n",
       "      <td>Narcos: Mexico</td>\n",
       "      <td>Witness the birth of the Mexican drug war in t...</td>\n",
       "      <td>Netflix</td>\n",
       "    </tr>\n",
       "    <tr>\n",
       "      <th>5822</th>\n",
       "      <td>Cocaine</td>\n",
       "      <td>Three films chronicle the cocaine trade's swee...</td>\n",
       "      <td>Netflix</td>\n",
       "    </tr>\n",
       "    <tr>\n",
       "      <th>6416</th>\n",
       "      <td>Cannabis</td>\n",
       "      <td>When a huge marijuana shipment falls prey to t...</td>\n",
       "      <td>Netflix</td>\n",
       "    </tr>\n",
       "    <tr>\n",
       "      <th>4853</th>\n",
       "      <td>Mob Psycho 100</td>\n",
       "      <td>There's an organization gathering espers for a...</td>\n",
       "      <td>Netflix</td>\n",
       "    </tr>\n",
       "    <tr>\n",
       "      <th>2792</th>\n",
       "      <td>She</td>\n",
       "      <td>An undercover assignment to expose a drug ring...</td>\n",
       "      <td>Netflix</td>\n",
       "    </tr>\n",
       "    <tr>\n",
       "      <th>3577</th>\n",
       "      <td>Better Than Us</td>\n",
       "      <td>A family on the brink of splitting up become t...</td>\n",
       "      <td>Netflix</td>\n",
       "    </tr>\n",
       "    <tr>\n",
       "      <th>3789</th>\n",
       "      <td>Killer Ratings</td>\n",
       "      <td>Brazilian TV personality and politician Wallac...</td>\n",
       "      <td>Netflix</td>\n",
       "    </tr>\n",
       "    <tr>\n",
       "      <th>9082</th>\n",
       "      <td>Disney Big Hero 6 The Series</td>\n",
       "      <td>Hiro, Baymax and team protect the city from vi...</td>\n",
       "      <td>Disney Plus</td>\n",
       "    </tr>\n",
       "    <tr>\n",
       "      <th>1905</th>\n",
       "      <td>Cold Harbour</td>\n",
       "      <td>When a war breaks out between competing gangs ...</td>\n",
       "      <td>Netflix</td>\n",
       "    </tr>\n",
       "  </tbody>\n",
       "</table>\n",
       "</div>"
      ],
      "text/plain": [
       "                             title  \\\n",
       "5305                        Narcos   \n",
       "2921                Narcos: Mexico   \n",
       "5822                       Cocaine   \n",
       "6416                      Cannabis   \n",
       "4853                Mob Psycho 100   \n",
       "2792                           She   \n",
       "3577                Better Than Us   \n",
       "3789                Killer Ratings   \n",
       "9082  Disney Big Hero 6 The Series   \n",
       "1905                  Cold Harbour   \n",
       "\n",
       "                                            description Streaming Service  \n",
       "5305  The true story of Colombia's infamously violen...           Netflix  \n",
       "2921  Witness the birth of the Mexican drug war in t...           Netflix  \n",
       "5822  Three films chronicle the cocaine trade's swee...           Netflix  \n",
       "6416  When a huge marijuana shipment falls prey to t...           Netflix  \n",
       "4853  There's an organization gathering espers for a...           Netflix  \n",
       "2792  An undercover assignment to expose a drug ring...           Netflix  \n",
       "3577  A family on the brink of splitting up become t...           Netflix  \n",
       "3789  Brazilian TV personality and politician Wallac...           Netflix  \n",
       "9082  Hiro, Baymax and team protect the city from vi...       Disney Plus  \n",
       "1905  When a war breaks out between competing gangs ...           Netflix  "
      ]
     },
     "execution_count": 59,
     "metadata": {},
     "output_type": "execute_result"
    }
   ],
   "source": [
    "get_recommendations(\"Ganglands\")"
   ]
  },
  {
   "cell_type": "code",
   "execution_count": null,
   "metadata": {},
   "outputs": [],
   "source": []
  }
 ],
 "metadata": {
  "kernelspec": {
   "display_name": "Python 3.10.1 64-bit",
   "language": "python",
   "name": "python3"
  },
  "language_info": {
   "codemirror_mode": {
    "name": "ipython",
    "version": 3
   },
   "file_extension": ".py",
   "mimetype": "text/x-python",
   "name": "python",
   "nbconvert_exporter": "python",
   "pygments_lexer": "ipython3",
   "version": "3.10.1"
  },
  "orig_nbformat": 4,
  "vscode": {
   "interpreter": {
    "hash": "07fcc30a38d1ecd00416a20ffc3bb9ba1ff350e42774c526eac392e139b99617"
   }
  }
 },
 "nbformat": 4,
 "nbformat_minor": 2
}
